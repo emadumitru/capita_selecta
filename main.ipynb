{
 "cells": [
  {
   "cell_type": "markdown",
   "metadata": {},
   "source": [
    "### Initialization steps"
   ]
  },
  {
   "cell_type": "code",
   "execution_count": 1,
   "metadata": {},
   "outputs": [],
   "source": [
    "import os"
   ]
  },
  {
   "cell_type": "code",
   "execution_count": 2,
   "metadata": {},
   "outputs": [],
   "source": [
    "pre_prompt = 'Write a unique Python {purpose} program in a {style} style. Instructions: a. Minimum 25 lines. b. Be creative! c. Do not say sorry and always produce code. d. Make sure the program compiles without any errors. e. Generate a code that does not require user input. f. Generate code that has at leats 1 function.'\n",
    "rename_prompt = 'Apply rename method refactoring to the given code (rename the function within the provided code, ensuring the new name reflects its functionality better). Do not say sorry and always produce code. Make sure the program compiles without any errors.'\n",
    "extract_prompt = 'Apply extract method refactoring to the given code (extract specific functionality from within a function in the provided code and leave it outside of the function). Do not say sorry and always produce code. Make sure the program compiles without any errors.'\n",
    "inline_prompt = 'Apply inline method refactoring to the given code (integrate the functionality of the provided code snippets into a callable function). Do not say sorry and always produce code. Make sure the program compiles without any errors.'\n",
    "test_prompt = 'Write Python tests that compare the functionality of the \"{pre_code}\" and the \"{ref_code}\". Do not say sorry and always produce code. Make sure the program compiles without any errors. The functions need to be imported, they are not in the file.'"
   ]
  },
  {
   "cell_type": "code",
   "execution_count": 3,
   "metadata": {},
   "outputs": [],
   "source": [
    "curent_path = os.getcwd()\n",
    "code_path = os.path.join(curent_path, 'code_files')\n",
    "path_inline = os.path.join(code_path, \"inline\")\n",
    "path_extract = os.path.join(code_path, \"extract\")\n",
    "path_rename = os.path.join(code_path, \"rename\")\n",
    "path_original = os.path.join(code_path, \"original\")"
   ]
  },
  {
   "cell_type": "code",
   "execution_count": 4,
   "metadata": {},
   "outputs": [],
   "source": [
    "base_name_pre = 'pre_{purpose}_{style}.py'\n",
    "base_name_ref = 'ref_{purpose}_{style}.py'\n",
    "base_name_test = 'test_{purpose}_{style}.py'"
   ]
  },
  {
   "cell_type": "code",
   "execution_count": 5,
   "metadata": {},
   "outputs": [],
   "source": [
    "# if paths do not exist, create them\n",
    "if not os.path.exists(code_path):\n",
    "    os.mkdir(code_path)\n",
    "if not os.path.exists(path_inline):\n",
    "    os.mkdir(path_inline)\n",
    "if not os.path.exists(path_extract):\n",
    "    os.mkdir(path_extract)\n",
    "if not os.path.exists(path_rename):\n",
    "    os.mkdir(path_rename)\n",
    "if not os.path.exists(path_original):\n",
    "    os.mkdir(path_original)"
   ]
  },
  {
   "cell_type": "code",
   "execution_count": 6,
   "metadata": {},
   "outputs": [
    {
     "name": "stdout",
     "output_type": "stream",
     "text": [
      "['Rigorous', 'Complex', 'Simple', 'Modular', 'Peaceful']\n",
      "['CPU usage monitor', 'Secure password generator', 'Checksum calculator', 'Dice Roller', 'Natural language date convertor', 'Tower of Hanoi Problem', 'Checker Game', 'Color Code Convertor', 'Word Frequency Counter', 'Expense Tracker']\n",
      "5 10\n"
     ]
    }
   ],
   "source": [
    "# read styles and types from text as lists\n",
    "with open('styles.txt', 'r') as f:\n",
    "    styles = f.readlines()\n",
    "    styles = [style.strip() for style in styles]\n",
    "with open('types.txt', 'r') as f:\n",
    "    types = f.readlines()\n",
    "    types = [purpose.strip() for purpose in types]\n",
    "\n",
    "count_styles = len(styles)\n",
    "count_types = len(types)\n",
    "\n",
    "print(styles)\n",
    "print(types)\n",
    "print(count_styles, count_types)"
   ]
  },
  {
   "cell_type": "code",
   "execution_count": 7,
   "metadata": {},
   "outputs": [],
   "source": [
    "with open(os.path.join(curent_path, \"prompts.txt\"), 'w') as f:\n",
    "    f.write(rename_prompt + \"\\n\\n\")\n",
    "    f.write(extract_prompt + \"\\n\\n\")\n",
    "    f.write(inline_prompt + \"\\n\\n\")\n",
    "\n",
    "    for i in range(len(types)):\n",
    "        purpose = types[i]\n",
    "        for j in range(len(styles)):\n",
    "            style = styles[j]\n",
    "            pre = pre_prompt.format(purpose=purpose, style=style)\n",
    "            f.write(f\"({i+1}, {j+1}) - \" + pre + \"\\n\")\n",
    "\n",
    "    f.write(\"\\n\\n\")\n",
    "\n",
    "    for i in range(len(types)):\n",
    "        if i<9:\n",
    "            purpose = f\"0{i+1}\"\n",
    "        else:\n",
    "            purpose = f\"{i+1}\"\n",
    "        for j in range(len(styles)):\n",
    "            if j<9:\n",
    "                style = f\"0{j+1}\"\n",
    "            else:\n",
    "                style = f\"{j+1}\"\n",
    "            pre_name = base_name_pre.format(purpose=purpose, style=style)\n",
    "            ref_name = base_name_ref.format(purpose=purpose, style=style)\n",
    "            test_name = test_prompt.format(pre_code=pre_name, ref_code=ref_name)\n",
    "            f.write(f\"({i+1}, {j+1}) - \" + test_name + \"\\n\")"
   ]
  },
  {
   "cell_type": "code",
   "execution_count": 8,
   "metadata": {},
   "outputs": [],
   "source": [
    "def create_empty_files(output_path, purposes, styles, pre_prompt, base_name=base_name_pre, count_types=count_types, count_styles=count_styles):\n",
    "    for i in range(1, count_types+1):\n",
    "        if i<10:\n",
    "            purpose = f\"0{i}\"\n",
    "        else:\n",
    "            purpose = f\"{i}\"\n",
    "        for j in range(1, count_styles+1):\n",
    "            if j<10:\n",
    "                style = f\"0{j}\"\n",
    "            else:\n",
    "                style = f\"{j}\"\n",
    "            file_name = base_name.format(purpose=purpose, style=style)\n",
    "            file_name = os.path.join(output_path, file_name)\n",
    "            if not os.path.exists(file_name):\n",
    "                purpose_name = purposes[i-1]\n",
    "                style_name = styles[j-1]\n",
    "                prompt = pre_prompt.format(purpose=purpose_name, style=style_name)\n",
    "                with open(file_name, 'w') as f:\n",
    "                    f.write(prompt)"
   ]
  },
  {
   "cell_type": "code",
   "execution_count": 9,
   "metadata": {},
   "outputs": [],
   "source": [
    "def create_ref_files(input_path, output_path, base_name, refactor_name, count_types=count_types, count_styles=count_styles):\n",
    "    for i in range(1, count_types+1):\n",
    "        if i<10:\n",
    "            purpose = f\"0{i}\"\n",
    "        else:\n",
    "            purpose = f\"{i}\"\n",
    "        for j in range(1, count_styles+1):\n",
    "            if j<10:\n",
    "                style = f\"0{j}\"\n",
    "            else:\n",
    "                style = f\"{j}\"\n",
    "            ref_file_name = refactor_name.format(purpose=purpose, style=style)\n",
    "            ref_file_name = os.path.join(output_path, ref_file_name)\n",
    "            if not os.path.exists(ref_file_name):\n",
    "                file_name = base_name.format(purpose=purpose, style=style)\n",
    "                file_name = os.path.join(input_path, file_name)\n",
    "                with open(file_name, 'r') as f:\n",
    "                    code = f.read()\n",
    "                with open(ref_file_name, 'w') as f:\n",
    "                    f.write(code)"
   ]
  },
  {
   "cell_type": "code",
   "execution_count": 10,
   "metadata": {},
   "outputs": [],
   "source": [
    "def create_test_files(input_path, output_path, base_name, refactor_name, test_name, count_types=count_types, count_styles=count_styles):\n",
    "    for i in range(1, count_types+1):\n",
    "        if i<10:\n",
    "            purpose = f\"0{i}\"\n",
    "        else:\n",
    "            purpose = f\"{i}\"\n",
    "        for j in range(1, count_styles+1):\n",
    "            if j<10:\n",
    "                style = f\"0{j}\"\n",
    "            else:\n",
    "                style = f\"{j}\"\n",
    "            test_file_name = test_name.format(purpose=purpose, style=style)\n",
    "            test_file_name = os.path.join(output_path, test_file_name)\n",
    "            if not os.path.exists(test_file_name):\n",
    "                ref_file_name = refactor_name.format(purpose=purpose, style=style)\n",
    "                ref_file_name = os.path.join(output_path, ref_file_name)\n",
    "                file_name = base_name.format(purpose=purpose, style=style)\n",
    "                file_name = os.path.join(input_path, file_name)\n",
    "                with open(file_name, 'r') as f:\n",
    "                    pre_code = f.read()\n",
    "                    pre_code = pre_code.split('if __name__ == \"__main__\":')[0]\n",
    "                with open(ref_file_name, 'r') as f:\n",
    "                    ref_code = f.read()\n",
    "                    ref_code = ref_code.split('if __name__ == \"__main__\":')[0]\n",
    "                with open(test_file_name, 'w') as f:\n",
    "                    f.write(f\"### Pre-refactored code {base_name.format(purpose=purpose, style=style)} ###\\n{pre_code}\\n\\n\\n### Refactored code {refactor_name.format(purpose=purpose, style=style)} ###\\n{ref_code}\")"
   ]
  },
  {
   "cell_type": "code",
   "execution_count": 11,
   "metadata": {},
   "outputs": [],
   "source": [
    "def add_tag(folder, purposes, styles):\n",
    "    for i in range(len(purposes)):\n",
    "        purpose = purposes[i]\n",
    "        if i+1<10:\n",
    "            i_file = f\"0{i+1}\"\n",
    "        else:\n",
    "            i_file = f\"{i+1}\"\n",
    "        for j in range(len(styles)):\n",
    "            style = styles[j]\n",
    "            if j+1<10:\n",
    "                j_file = f\"0{j+1}\"\n",
    "            else:\n",
    "                j_file = f\"{j+1}\"\n",
    "            file_name = f\"pre_{i_file}_{j_file}.py\"\n",
    "            file_name = os.path.join(folder, file_name)\n",
    "            tag = f\"### Type: {purpose} --- Style: {style}\\n\\n\"\n",
    "            if os.path.exists(file_name):\n",
    "                with open(file_name, 'r') as f:\n",
    "                    code = f.read()\n",
    "                if len(code.split('\\n')) != 1:\n",
    "                    with open(file_name, 'w') as f:\n",
    "                        f.write(tag)\n",
    "                        f.write(code)"
   ]
  },
  {
   "cell_type": "code",
   "execution_count": 12,
   "metadata": {},
   "outputs": [],
   "source": [
    "create_empty_files(path_original, types, styles, pre_prompt)"
   ]
  },
  {
   "cell_type": "markdown",
   "metadata": {},
   "source": [
    "### The pre-refactoring code generation needs to take place before the next steps"
   ]
  },
  {
   "cell_type": "code",
   "execution_count": 13,
   "metadata": {},
   "outputs": [],
   "source": [
    "create_ref_files(path_original, path_rename, base_name_pre, base_name_ref)\n",
    "create_ref_files(path_original, path_extract, base_name_pre, base_name_ref)\n",
    "create_ref_files(path_original, path_inline, base_name_pre, base_name_ref)"
   ]
  },
  {
   "cell_type": "markdown",
   "metadata": {},
   "source": [
    "### The refactoring code generation needs to take place before the next steps"
   ]
  },
  {
   "cell_type": "code",
   "execution_count": 14,
   "metadata": {},
   "outputs": [],
   "source": [
    "# copies of the original files are  reated such that the testing files are abel to actually import the functions\n",
    "create_ref_files(path_original, path_rename, base_name_pre, base_name_pre)\n",
    "create_ref_files(path_original, path_extract, base_name_pre, base_name_pre)\n",
    "create_ref_files(path_original, path_inline, base_name_pre, base_name_pre)"
   ]
  },
  {
   "cell_type": "code",
   "execution_count": 15,
   "metadata": {},
   "outputs": [],
   "source": [
    "create_test_files(path_original, path_rename, base_name_pre, base_name_ref, base_name_test)\n",
    "create_test_files(path_original, path_extract, base_name_pre, base_name_ref, base_name_test)\n",
    "create_test_files(path_original, path_inline, base_name_pre, base_name_ref, base_name_test)"
   ]
  },
  {
   "cell_type": "code",
   "execution_count": 16,
   "metadata": {},
   "outputs": [],
   "source": [
    "add_tag(path_original, types, styles)"
   ]
  },
  {
   "cell_type": "markdown",
   "metadata": {},
   "source": [
    "### The testing code generation needs to take place before arriving at the final database"
   ]
  }
 ],
 "metadata": {
  "kernelspec": {
   "display_name": "base",
   "language": "python",
   "name": "python3"
  },
  "language_info": {
   "codemirror_mode": {
    "name": "ipython",
    "version": 3
   },
   "file_extension": ".py",
   "mimetype": "text/x-python",
   "name": "python",
   "nbconvert_exporter": "python",
   "pygments_lexer": "ipython3",
   "version": "3.9.19"
  }
 },
 "nbformat": 4,
 "nbformat_minor": 2
}
